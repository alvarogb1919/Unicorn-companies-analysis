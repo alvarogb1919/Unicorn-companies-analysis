{
 "cells": [
  {
   "cell_type": "code",
   "execution_count": 140,
   "id": "08fcdedf",
   "metadata": {},
   "outputs": [],
   "source": [
    "import pandas as pd\n",
    "import numpy as np\n",
    "import seaborn as sns\n",
    "import matplotlib.pyplot as plt"
   ]
  },
  {
   "cell_type": "code",
   "execution_count": 141,
   "id": "23a44b16",
   "metadata": {},
   "outputs": [],
   "source": [
    "from matplotlib import cm"
   ]
  },
  {
   "cell_type": "code",
   "execution_count": 3,
   "id": "9c7908cb",
   "metadata": {},
   "outputs": [],
   "source": [
    "unicorns_clean = pd.read_csv(\"./Cleaned_unicorns.csv\")"
   ]
  },
  {
   "cell_type": "code",
   "execution_count": 4,
   "id": "1497702d",
   "metadata": {},
   "outputs": [
    {
     "data": {
      "text/html": [
       "<div>\n",
       "<style scoped>\n",
       "    .dataframe tbody tr th:only-of-type {\n",
       "        vertical-align: middle;\n",
       "    }\n",
       "\n",
       "    .dataframe tbody tr th {\n",
       "        vertical-align: top;\n",
       "    }\n",
       "\n",
       "    .dataframe thead th {\n",
       "        text-align: right;\n",
       "    }\n",
       "</style>\n",
       "<table border=\"1\" class=\"dataframe\">\n",
       "  <thead>\n",
       "    <tr style=\"text-align: right;\">\n",
       "      <th></th>\n",
       "      <th>Unnamed: 0</th>\n",
       "      <th>Company_name</th>\n",
       "      <th>Valuation_usd_bn</th>\n",
       "      <th>Country</th>\n",
       "      <th>City</th>\n",
       "      <th>Industry</th>\n",
       "      <th>Investors</th>\n",
       "      <th>Year_founded</th>\n",
       "      <th>Total_funding_€m</th>\n",
       "    </tr>\n",
       "  </thead>\n",
       "  <tbody>\n",
       "    <tr>\n",
       "      <th>0</th>\n",
       "      <td>0</td>\n",
       "      <td>bytedance</td>\n",
       "      <td>140.0</td>\n",
       "      <td>China</td>\n",
       "      <td>Beijing</td>\n",
       "      <td>Artificial intelligence</td>\n",
       "      <td>Sequoia Capital China, SIG Asia Investments, S...</td>\n",
       "      <td>2017</td>\n",
       "      <td>3800.0</td>\n",
       "    </tr>\n",
       "    <tr>\n",
       "      <th>1</th>\n",
       "      <td>1</td>\n",
       "      <td>stripe</td>\n",
       "      <td>95.0</td>\n",
       "      <td>United States</td>\n",
       "      <td>San Francisco</td>\n",
       "      <td>Fintech</td>\n",
       "      <td>Khosla Ventures, LowercaseCapital, capitalG</td>\n",
       "      <td>2014</td>\n",
       "      <td>2300.0</td>\n",
       "    </tr>\n",
       "    <tr>\n",
       "      <th>2</th>\n",
       "      <td>2</td>\n",
       "      <td>spacex</td>\n",
       "      <td>74.0</td>\n",
       "      <td>United States</td>\n",
       "      <td>Hawthorne</td>\n",
       "      <td>Other</td>\n",
       "      <td>Founders Fund, Draper Fisher Jurvetson, Rothen...</td>\n",
       "      <td>2012</td>\n",
       "      <td>5100.0</td>\n",
       "    </tr>\n",
       "    <tr>\n",
       "      <th>3</th>\n",
       "      <td>3</td>\n",
       "      <td>didi_didi_dache</td>\n",
       "      <td>62.0</td>\n",
       "      <td>China</td>\n",
       "      <td>Beijing</td>\n",
       "      <td>Auto &amp; transportation</td>\n",
       "      <td>Matrix Partners, Tiger Global Management, Soft...</td>\n",
       "      <td>2015</td>\n",
       "      <td>18300.0</td>\n",
       "    </tr>\n",
       "    <tr>\n",
       "      <th>4</th>\n",
       "      <td>4</td>\n",
       "      <td>klarna</td>\n",
       "      <td>45.6</td>\n",
       "      <td>Sweden</td>\n",
       "      <td>Stockholm</td>\n",
       "      <td>Fintech</td>\n",
       "      <td>Institutional Venture Partners, Sequoia Capita...</td>\n",
       "      <td>2011</td>\n",
       "      <td>3100.0</td>\n",
       "    </tr>\n",
       "  </tbody>\n",
       "</table>\n",
       "</div>"
      ],
      "text/plain": [
       "   Unnamed: 0     Company_name  Valuation_usd_bn        Country  \\\n",
       "0           0        bytedance             140.0          China   \n",
       "1           1           stripe              95.0  United States   \n",
       "2           2           spacex              74.0  United States   \n",
       "3           3  didi_didi_dache              62.0          China   \n",
       "4           4           klarna              45.6         Sweden   \n",
       "\n",
       "            City                 Industry  \\\n",
       "0        Beijing  Artificial intelligence   \n",
       "1  San Francisco                  Fintech   \n",
       "2      Hawthorne                    Other   \n",
       "3        Beijing    Auto & transportation   \n",
       "4      Stockholm                  Fintech   \n",
       "\n",
       "                                           Investors  Year_founded  \\\n",
       "0  Sequoia Capital China, SIG Asia Investments, S...          2017   \n",
       "1        Khosla Ventures, LowercaseCapital, capitalG          2014   \n",
       "2  Founders Fund, Draper Fisher Jurvetson, Rothen...          2012   \n",
       "3  Matrix Partners, Tiger Global Management, Soft...          2015   \n",
       "4  Institutional Venture Partners, Sequoia Capita...          2011   \n",
       "\n",
       "  Total_funding_€m  \n",
       "0           3800.0  \n",
       "1           2300.0  \n",
       "2           5100.0  \n",
       "3          18300.0  \n",
       "4           3100.0  "
      ]
     },
     "execution_count": 4,
     "metadata": {},
     "output_type": "execute_result"
    }
   ],
   "source": [
    "unicorns_clean.head()"
   ]
  },
  {
   "cell_type": "code",
   "execution_count": 5,
   "id": "41d3e16d",
   "metadata": {},
   "outputs": [],
   "source": [
    "unicorns_clean.drop([\"Unnamed: 0\"], axis=1, inplace=True)"
   ]
  },
  {
   "cell_type": "code",
   "execution_count": 118,
   "id": "d19ba3b2",
   "metadata": {},
   "outputs": [
    {
     "data": {
      "text/html": [
       "<div>\n",
       "<style scoped>\n",
       "    .dataframe tbody tr th:only-of-type {\n",
       "        vertical-align: middle;\n",
       "    }\n",
       "\n",
       "    .dataframe tbody tr th {\n",
       "        vertical-align: top;\n",
       "    }\n",
       "\n",
       "    .dataframe thead th {\n",
       "        text-align: right;\n",
       "    }\n",
       "</style>\n",
       "<table border=\"1\" class=\"dataframe\">\n",
       "  <thead>\n",
       "    <tr style=\"text-align: right;\">\n",
       "      <th></th>\n",
       "      <th>Company_name</th>\n",
       "      <th>Valuation_usd_bn</th>\n",
       "      <th>Country</th>\n",
       "      <th>City</th>\n",
       "      <th>Industry</th>\n",
       "      <th>Investors</th>\n",
       "      <th>Year_founded</th>\n",
       "      <th>Total_funding_€m</th>\n",
       "    </tr>\n",
       "  </thead>\n",
       "  <tbody>\n",
       "    <tr>\n",
       "      <th>257</th>\n",
       "      <td>kuaikan_manhua</td>\n",
       "      <td>2.00</td>\n",
       "      <td>China</td>\n",
       "      <td>Beijing</td>\n",
       "      <td>Internet software &amp; services</td>\n",
       "      <td>Sequoia Capital China, CMC Capital Partners, T...</td>\n",
       "      <td>2017</td>\n",
       "      <td>292.0</td>\n",
       "    </tr>\n",
       "    <tr>\n",
       "      <th>571</th>\n",
       "      <td>linkdoc</td>\n",
       "      <td>1.00</td>\n",
       "      <td>China</td>\n",
       "      <td>Beijing</td>\n",
       "      <td>Health</td>\n",
       "      <td>China Investment Corporation, New Enterprise A...</td>\n",
       "      <td>2018</td>\n",
       "      <td>230.0</td>\n",
       "    </tr>\n",
       "    <tr>\n",
       "      <th>641</th>\n",
       "      <td>cars24</td>\n",
       "      <td>1.00</td>\n",
       "      <td>India</td>\n",
       "      <td>Gurgaon</td>\n",
       "      <td>E-commerce &amp; direct-to-consumer</td>\n",
       "      <td>Moore Strategic Ventures, DST Global, Unbound</td>\n",
       "      <td>2020</td>\n",
       "      <td>283.0</td>\n",
       "    </tr>\n",
       "    <tr>\n",
       "      <th>491</th>\n",
       "      <td>tuhu</td>\n",
       "      <td>1.16</td>\n",
       "      <td>China</td>\n",
       "      <td>Shanghai</td>\n",
       "      <td>Auto &amp; transportation</td>\n",
       "      <td>Qiming Venture Partners, Yaxia Automobile, Far...</td>\n",
       "      <td>2018</td>\n",
       "      <td>794.0</td>\n",
       "    </tr>\n",
       "    <tr>\n",
       "      <th>317</th>\n",
       "      <td>allbirds</td>\n",
       "      <td>1.70</td>\n",
       "      <td>United States</td>\n",
       "      <td>San Francisco</td>\n",
       "      <td>E-commerce &amp; direct-to-consumer</td>\n",
       "      <td>Lerer Hippeau Ventures, T. Rowe Price, Tiger G...</td>\n",
       "      <td>2018</td>\n",
       "      <td>184.0</td>\n",
       "    </tr>\n",
       "    <tr>\n",
       "      <th>572</th>\n",
       "      <td>mediamath</td>\n",
       "      <td>1.00</td>\n",
       "      <td>United States</td>\n",
       "      <td>New York</td>\n",
       "      <td>Internet software &amp; services</td>\n",
       "      <td>Silicon Valley Bank, QED Investors, European F...</td>\n",
       "      <td>2018</td>\n",
       "      <td>229.0</td>\n",
       "    </tr>\n",
       "    <tr>\n",
       "      <th>212</th>\n",
       "      <td>duolingo</td>\n",
       "      <td>2.40</td>\n",
       "      <td>United States</td>\n",
       "      <td>Pittsburgh</td>\n",
       "      <td>Edtech</td>\n",
       "      <td>capitalG, Union Square Ventures, New Enterpris...</td>\n",
       "      <td>2019</td>\n",
       "      <td>167.0</td>\n",
       "    </tr>\n",
       "    <tr>\n",
       "      <th>592</th>\n",
       "      <td>globality</td>\n",
       "      <td>1.00</td>\n",
       "      <td>United States</td>\n",
       "      <td>Menlo Park</td>\n",
       "      <td>Artificial intelligence</td>\n",
       "      <td>SoftBank Group</td>\n",
       "      <td>2019</td>\n",
       "      <td>291.0</td>\n",
       "    </tr>\n",
       "    <tr>\n",
       "      <th>387</th>\n",
       "      <td>ledger_wallet</td>\n",
       "      <td>1.50</td>\n",
       "      <td>France</td>\n",
       "      <td>Paris</td>\n",
       "      <td>Hardware</td>\n",
       "      <td>Digital Currency Group, Draper Esprit, Korelya...</td>\n",
       "      <td>2021</td>\n",
       "      <td>432.0</td>\n",
       "    </tr>\n",
       "    <tr>\n",
       "      <th>164</th>\n",
       "      <td>zuoyebang</td>\n",
       "      <td>3.00</td>\n",
       "      <td>China</td>\n",
       "      <td>Beijing</td>\n",
       "      <td>Edtech</td>\n",
       "      <td>Sequoia Capital China, Xiang He Capital, GGV C...</td>\n",
       "      <td>2018</td>\n",
       "      <td>2700.0</td>\n",
       "    </tr>\n",
       "  </tbody>\n",
       "</table>\n",
       "</div>"
      ],
      "text/plain": [
       "       Company_name  Valuation_usd_bn        Country           City  \\\n",
       "257  kuaikan_manhua              2.00          China        Beijing   \n",
       "571         linkdoc              1.00          China        Beijing   \n",
       "641          cars24              1.00          India        Gurgaon   \n",
       "491            tuhu              1.16          China       Shanghai   \n",
       "317        allbirds              1.70  United States  San Francisco   \n",
       "572       mediamath              1.00  United States       New York   \n",
       "212        duolingo              2.40  United States     Pittsburgh   \n",
       "592       globality              1.00  United States     Menlo Park   \n",
       "387   ledger_wallet              1.50         France          Paris   \n",
       "164       zuoyebang              3.00          China        Beijing   \n",
       "\n",
       "                            Industry  \\\n",
       "257     Internet software & services   \n",
       "571                           Health   \n",
       "641  E-commerce & direct-to-consumer   \n",
       "491            Auto & transportation   \n",
       "317  E-commerce & direct-to-consumer   \n",
       "572     Internet software & services   \n",
       "212                           Edtech   \n",
       "592          Artificial intelligence   \n",
       "387                         Hardware   \n",
       "164                           Edtech   \n",
       "\n",
       "                                             Investors  Year_founded  \\\n",
       "257  Sequoia Capital China, CMC Capital Partners, T...          2017   \n",
       "571  China Investment Corporation, New Enterprise A...          2018   \n",
       "641      Moore Strategic Ventures, DST Global, Unbound          2020   \n",
       "491  Qiming Venture Partners, Yaxia Automobile, Far...          2018   \n",
       "317  Lerer Hippeau Ventures, T. Rowe Price, Tiger G...          2018   \n",
       "572  Silicon Valley Bank, QED Investors, European F...          2018   \n",
       "212  capitalG, Union Square Ventures, New Enterpris...          2019   \n",
       "592                                     SoftBank Group          2019   \n",
       "387  Digital Currency Group, Draper Esprit, Korelya...          2021   \n",
       "164  Sequoia Capital China, Xiang He Capital, GGV C...          2018   \n",
       "\n",
       "    Total_funding_€m  \n",
       "257            292.0  \n",
       "571            230.0  \n",
       "641            283.0  \n",
       "491            794.0  \n",
       "317            184.0  \n",
       "572            229.0  \n",
       "212            167.0  \n",
       "592            291.0  \n",
       "387            432.0  \n",
       "164           2700.0  "
      ]
     },
     "execution_count": 118,
     "metadata": {},
     "output_type": "execute_result"
    }
   ],
   "source": [
    "unicorns_clean.sample(10)"
   ]
  },
  {
   "cell_type": "code",
   "execution_count": 119,
   "id": "e2f2ad6a",
   "metadata": {},
   "outputs": [],
   "source": [
    "unicorns_clean[\"Unicorn_year\"] = unicorns_clean[\"Year_founded\"]"
   ]
  },
  {
   "cell_type": "code",
   "execution_count": 121,
   "id": "66a274c3",
   "metadata": {},
   "outputs": [
    {
     "data": {
      "text/html": [
       "<div>\n",
       "<style scoped>\n",
       "    .dataframe tbody tr th:only-of-type {\n",
       "        vertical-align: middle;\n",
       "    }\n",
       "\n",
       "    .dataframe tbody tr th {\n",
       "        vertical-align: top;\n",
       "    }\n",
       "\n",
       "    .dataframe thead th {\n",
       "        text-align: right;\n",
       "    }\n",
       "</style>\n",
       "<table border=\"1\" class=\"dataframe\">\n",
       "  <thead>\n",
       "    <tr style=\"text-align: right;\">\n",
       "      <th></th>\n",
       "      <th>Company_name</th>\n",
       "      <th>Valuation_usd_bn</th>\n",
       "      <th>Country</th>\n",
       "      <th>City</th>\n",
       "      <th>Industry</th>\n",
       "      <th>Investors</th>\n",
       "      <th>Year_founded</th>\n",
       "      <th>Total_funding_€m</th>\n",
       "      <th>Unicorn_year</th>\n",
       "    </tr>\n",
       "  </thead>\n",
       "  <tbody>\n",
       "    <tr>\n",
       "      <th>0</th>\n",
       "      <td>bytedance</td>\n",
       "      <td>140.0</td>\n",
       "      <td>China</td>\n",
       "      <td>Beijing</td>\n",
       "      <td>Artificial intelligence</td>\n",
       "      <td>Sequoia Capital China, SIG Asia Investments, S...</td>\n",
       "      <td>2017</td>\n",
       "      <td>3800.0</td>\n",
       "      <td>2017</td>\n",
       "    </tr>\n",
       "    <tr>\n",
       "      <th>1</th>\n",
       "      <td>stripe</td>\n",
       "      <td>95.0</td>\n",
       "      <td>United States</td>\n",
       "      <td>San Francisco</td>\n",
       "      <td>Fintech</td>\n",
       "      <td>Khosla Ventures, LowercaseCapital, capitalG</td>\n",
       "      <td>2014</td>\n",
       "      <td>2300.0</td>\n",
       "      <td>2014</td>\n",
       "    </tr>\n",
       "    <tr>\n",
       "      <th>2</th>\n",
       "      <td>spacex</td>\n",
       "      <td>74.0</td>\n",
       "      <td>United States</td>\n",
       "      <td>Hawthorne</td>\n",
       "      <td>Other</td>\n",
       "      <td>Founders Fund, Draper Fisher Jurvetson, Rothen...</td>\n",
       "      <td>2012</td>\n",
       "      <td>5100.0</td>\n",
       "      <td>2012</td>\n",
       "    </tr>\n",
       "    <tr>\n",
       "      <th>3</th>\n",
       "      <td>didi_didi_dache</td>\n",
       "      <td>62.0</td>\n",
       "      <td>China</td>\n",
       "      <td>Beijing</td>\n",
       "      <td>Auto &amp; transportation</td>\n",
       "      <td>Matrix Partners, Tiger Global Management, Soft...</td>\n",
       "      <td>2015</td>\n",
       "      <td>18300.0</td>\n",
       "      <td>2015</td>\n",
       "    </tr>\n",
       "    <tr>\n",
       "      <th>4</th>\n",
       "      <td>klarna</td>\n",
       "      <td>45.6</td>\n",
       "      <td>Sweden</td>\n",
       "      <td>Stockholm</td>\n",
       "      <td>Fintech</td>\n",
       "      <td>Institutional Venture Partners, Sequoia Capita...</td>\n",
       "      <td>2011</td>\n",
       "      <td>3100.0</td>\n",
       "      <td>2011</td>\n",
       "    </tr>\n",
       "  </tbody>\n",
       "</table>\n",
       "</div>"
      ],
      "text/plain": [
       "      Company_name  Valuation_usd_bn        Country           City  \\\n",
       "0        bytedance             140.0          China        Beijing   \n",
       "1           stripe              95.0  United States  San Francisco   \n",
       "2           spacex              74.0  United States      Hawthorne   \n",
       "3  didi_didi_dache              62.0          China        Beijing   \n",
       "4           klarna              45.6         Sweden      Stockholm   \n",
       "\n",
       "                  Industry                                          Investors  \\\n",
       "0  Artificial intelligence  Sequoia Capital China, SIG Asia Investments, S...   \n",
       "1                  Fintech        Khosla Ventures, LowercaseCapital, capitalG   \n",
       "2                    Other  Founders Fund, Draper Fisher Jurvetson, Rothen...   \n",
       "3    Auto & transportation  Matrix Partners, Tiger Global Management, Soft...   \n",
       "4                  Fintech  Institutional Venture Partners, Sequoia Capita...   \n",
       "\n",
       "   Year_founded Total_funding_€m  Unicorn_year  \n",
       "0          2017           3800.0          2017  \n",
       "1          2014           2300.0          2014  \n",
       "2          2012           5100.0          2012  \n",
       "3          2015          18300.0          2015  \n",
       "4          2011           3100.0          2011  "
      ]
     },
     "execution_count": 121,
     "metadata": {},
     "output_type": "execute_result"
    }
   ],
   "source": [
    "unicorns_clean.head()"
   ]
  },
  {
   "cell_type": "code",
   "execution_count": 182,
   "id": "dc0a9b03",
   "metadata": {},
   "outputs": [
    {
     "data": {
      "text/html": [
       "<div>\n",
       "<style scoped>\n",
       "    .dataframe tbody tr th:only-of-type {\n",
       "        vertical-align: middle;\n",
       "    }\n",
       "\n",
       "    .dataframe tbody tr th {\n",
       "        vertical-align: top;\n",
       "    }\n",
       "\n",
       "    .dataframe thead th {\n",
       "        text-align: right;\n",
       "    }\n",
       "</style>\n",
       "<table border=\"1\" class=\"dataframe\">\n",
       "  <thead>\n",
       "    <tr style=\"text-align: right;\">\n",
       "      <th></th>\n",
       "      <th>Company_name</th>\n",
       "      <th>Valuation_usd_bn</th>\n",
       "      <th>Country</th>\n",
       "      <th>City</th>\n",
       "      <th>Industry</th>\n",
       "      <th>Investors</th>\n",
       "      <th>Total_funding_€m</th>\n",
       "      <th>Unicorn_year</th>\n",
       "    </tr>\n",
       "  </thead>\n",
       "  <tbody>\n",
       "    <tr>\n",
       "      <th>0</th>\n",
       "      <td>bytedance</td>\n",
       "      <td>140.0</td>\n",
       "      <td>China</td>\n",
       "      <td>Beijing</td>\n",
       "      <td>Artificial intelligence</td>\n",
       "      <td>Sequoia Capital China, SIG Asia Investments, S...</td>\n",
       "      <td>3800.0</td>\n",
       "      <td>2017</td>\n",
       "    </tr>\n",
       "    <tr>\n",
       "      <th>1</th>\n",
       "      <td>stripe</td>\n",
       "      <td>95.0</td>\n",
       "      <td>United States</td>\n",
       "      <td>San Francisco</td>\n",
       "      <td>Fintech</td>\n",
       "      <td>Khosla Ventures, LowercaseCapital, capitalG</td>\n",
       "      <td>2300.0</td>\n",
       "      <td>2014</td>\n",
       "    </tr>\n",
       "    <tr>\n",
       "      <th>2</th>\n",
       "      <td>spacex</td>\n",
       "      <td>74.0</td>\n",
       "      <td>United States</td>\n",
       "      <td>Hawthorne</td>\n",
       "      <td>Other</td>\n",
       "      <td>Founders Fund, Draper Fisher Jurvetson, Rothen...</td>\n",
       "      <td>5100.0</td>\n",
       "      <td>2012</td>\n",
       "    </tr>\n",
       "    <tr>\n",
       "      <th>3</th>\n",
       "      <td>didi_didi_dache</td>\n",
       "      <td>62.0</td>\n",
       "      <td>China</td>\n",
       "      <td>Beijing</td>\n",
       "      <td>Auto &amp; transportation</td>\n",
       "      <td>Matrix Partners, Tiger Global Management, Soft...</td>\n",
       "      <td>18300.0</td>\n",
       "      <td>2015</td>\n",
       "    </tr>\n",
       "    <tr>\n",
       "      <th>4</th>\n",
       "      <td>klarna</td>\n",
       "      <td>45.6</td>\n",
       "      <td>Sweden</td>\n",
       "      <td>Stockholm</td>\n",
       "      <td>Fintech</td>\n",
       "      <td>Institutional Venture Partners, Sequoia Capita...</td>\n",
       "      <td>3100.0</td>\n",
       "      <td>2011</td>\n",
       "    </tr>\n",
       "    <tr>\n",
       "      <th>...</th>\n",
       "      <td>...</td>\n",
       "      <td>...</td>\n",
       "      <td>...</td>\n",
       "      <td>...</td>\n",
       "      <td>...</td>\n",
       "      <td>...</td>\n",
       "      <td>...</td>\n",
       "      <td>...</td>\n",
       "    </tr>\n",
       "    <tr>\n",
       "      <th>703</th>\n",
       "      <td>shippo</td>\n",
       "      <td>1.0</td>\n",
       "      <td>United States</td>\n",
       "      <td>San Francisco</td>\n",
       "      <td>Supply chain, logistics, &amp; delivery</td>\n",
       "      <td>Version One Ventures, Uncork Capital, Bessemer...</td>\n",
       "      <td>140.0</td>\n",
       "      <td>2021</td>\n",
       "    </tr>\n",
       "    <tr>\n",
       "      <th>704</th>\n",
       "      <td>thirty_madison</td>\n",
       "      <td>1.0</td>\n",
       "      <td>United States</td>\n",
       "      <td>New York</td>\n",
       "      <td>Health</td>\n",
       "      <td>Northzone Ventures, Maveron, Johnson &amp; Johnson...</td>\n",
       "      <td>193.0</td>\n",
       "      <td>2021</td>\n",
       "    </tr>\n",
       "    <tr>\n",
       "      <th>705</th>\n",
       "      <td>letsgetchecked_com</td>\n",
       "      <td>1.0</td>\n",
       "      <td>Ireland</td>\n",
       "      <td>Dublin</td>\n",
       "      <td>Health</td>\n",
       "      <td>Optum Ventures, Qiming Venture Partners, Trans...</td>\n",
       "      <td>241.0</td>\n",
       "      <td>2021</td>\n",
       "    </tr>\n",
       "    <tr>\n",
       "      <th>706</th>\n",
       "      <td>verbit_ai</td>\n",
       "      <td>1.0</td>\n",
       "      <td>Israel</td>\n",
       "      <td>Tel Aviv</td>\n",
       "      <td>Artificial intelligence</td>\n",
       "      <td>ClalTech, Vertex Ventures, Oryzn Capital</td>\n",
       "      <td>256.0</td>\n",
       "      <td>2021</td>\n",
       "    </tr>\n",
       "    <tr>\n",
       "      <th>707</th>\n",
       "      <td>aura</td>\n",
       "      <td>1.0</td>\n",
       "      <td>United States</td>\n",
       "      <td>Burlington</td>\n",
       "      <td>Cybersecurity</td>\n",
       "      <td>Warburg Pincus, General Catalyst</td>\n",
       "      <td>90.6</td>\n",
       "      <td>2021</td>\n",
       "    </tr>\n",
       "  </tbody>\n",
       "</table>\n",
       "<p>708 rows × 8 columns</p>\n",
       "</div>"
      ],
      "text/plain": [
       "           Company_name  Valuation_usd_bn        Country           City  \\\n",
       "0             bytedance             140.0          China        Beijing   \n",
       "1                stripe              95.0  United States  San Francisco   \n",
       "2                spacex              74.0  United States      Hawthorne   \n",
       "3       didi_didi_dache              62.0          China        Beijing   \n",
       "4                klarna              45.6         Sweden      Stockholm   \n",
       "..                  ...               ...            ...            ...   \n",
       "703              shippo               1.0  United States  San Francisco   \n",
       "704      thirty_madison               1.0  United States       New York   \n",
       "705  letsgetchecked_com               1.0        Ireland         Dublin   \n",
       "706           verbit_ai               1.0         Israel       Tel Aviv   \n",
       "707                aura               1.0  United States     Burlington   \n",
       "\n",
       "                                Industry  \\\n",
       "0                Artificial intelligence   \n",
       "1                                Fintech   \n",
       "2                                  Other   \n",
       "3                  Auto & transportation   \n",
       "4                                Fintech   \n",
       "..                                   ...   \n",
       "703  Supply chain, logistics, & delivery   \n",
       "704                               Health   \n",
       "705                               Health   \n",
       "706              Artificial intelligence   \n",
       "707                        Cybersecurity   \n",
       "\n",
       "                                             Investors Total_funding_€m  \\\n",
       "0    Sequoia Capital China, SIG Asia Investments, S...           3800.0   \n",
       "1          Khosla Ventures, LowercaseCapital, capitalG           2300.0   \n",
       "2    Founders Fund, Draper Fisher Jurvetson, Rothen...           5100.0   \n",
       "3    Matrix Partners, Tiger Global Management, Soft...          18300.0   \n",
       "4    Institutional Venture Partners, Sequoia Capita...           3100.0   \n",
       "..                                                 ...              ...   \n",
       "703  Version One Ventures, Uncork Capital, Bessemer...            140.0   \n",
       "704  Northzone Ventures, Maveron, Johnson & Johnson...            193.0   \n",
       "705  Optum Ventures, Qiming Venture Partners, Trans...            241.0   \n",
       "706           ClalTech, Vertex Ventures, Oryzn Capital            256.0   \n",
       "707                   Warburg Pincus, General Catalyst             90.6   \n",
       "\n",
       "     Unicorn_year  \n",
       "0            2017  \n",
       "1            2014  \n",
       "2            2012  \n",
       "3            2015  \n",
       "4            2011  \n",
       "..            ...  \n",
       "703          2021  \n",
       "704          2021  \n",
       "705          2021  \n",
       "706          2021  \n",
       "707          2021  \n",
       "\n",
       "[708 rows x 8 columns]"
      ]
     },
     "execution_count": 182,
     "metadata": {},
     "output_type": "execute_result"
    }
   ],
   "source": [
    "unicorns_clean"
   ]
  },
  {
   "cell_type": "code",
   "execution_count": 192,
   "id": "bd5648a4",
   "metadata": {},
   "outputs": [],
   "source": [
    "unicorns_clean[\"Total_funding_EURm\"] = unicorns_clean[\"Total_funding_€m\"]"
   ]
  },
  {
   "cell_type": "code",
   "execution_count": 193,
   "id": "cb714e81",
   "metadata": {},
   "outputs": [],
   "source": [
    "unicorns_clean.drop([\"Total_funding_€m\"], axis = 1, inplace = True)"
   ]
  },
  {
   "cell_type": "code",
   "execution_count": 194,
   "id": "aecec3b0",
   "metadata": {},
   "outputs": [
    {
     "data": {
      "text/html": [
       "<div>\n",
       "<style scoped>\n",
       "    .dataframe tbody tr th:only-of-type {\n",
       "        vertical-align: middle;\n",
       "    }\n",
       "\n",
       "    .dataframe tbody tr th {\n",
       "        vertical-align: top;\n",
       "    }\n",
       "\n",
       "    .dataframe thead th {\n",
       "        text-align: right;\n",
       "    }\n",
       "</style>\n",
       "<table border=\"1\" class=\"dataframe\">\n",
       "  <thead>\n",
       "    <tr style=\"text-align: right;\">\n",
       "      <th></th>\n",
       "      <th>Company_name</th>\n",
       "      <th>Valuation_usd_bn</th>\n",
       "      <th>Country</th>\n",
       "      <th>City</th>\n",
       "      <th>Industry</th>\n",
       "      <th>Investors</th>\n",
       "      <th>Unicorn_year</th>\n",
       "      <th>Total_funding_EURm</th>\n",
       "    </tr>\n",
       "  </thead>\n",
       "  <tbody>\n",
       "    <tr>\n",
       "      <th>0</th>\n",
       "      <td>bytedance</td>\n",
       "      <td>140.0</td>\n",
       "      <td>China</td>\n",
       "      <td>Beijing</td>\n",
       "      <td>Artificial intelligence</td>\n",
       "      <td>Sequoia Capital China, SIG Asia Investments, S...</td>\n",
       "      <td>2017</td>\n",
       "      <td>3800.0</td>\n",
       "    </tr>\n",
       "    <tr>\n",
       "      <th>1</th>\n",
       "      <td>stripe</td>\n",
       "      <td>95.0</td>\n",
       "      <td>United States</td>\n",
       "      <td>San Francisco</td>\n",
       "      <td>Fintech</td>\n",
       "      <td>Khosla Ventures, LowercaseCapital, capitalG</td>\n",
       "      <td>2014</td>\n",
       "      <td>2300.0</td>\n",
       "    </tr>\n",
       "    <tr>\n",
       "      <th>2</th>\n",
       "      <td>spacex</td>\n",
       "      <td>74.0</td>\n",
       "      <td>United States</td>\n",
       "      <td>Hawthorne</td>\n",
       "      <td>Other</td>\n",
       "      <td>Founders Fund, Draper Fisher Jurvetson, Rothen...</td>\n",
       "      <td>2012</td>\n",
       "      <td>5100.0</td>\n",
       "    </tr>\n",
       "    <tr>\n",
       "      <th>3</th>\n",
       "      <td>didi_didi_dache</td>\n",
       "      <td>62.0</td>\n",
       "      <td>China</td>\n",
       "      <td>Beijing</td>\n",
       "      <td>Auto &amp; transportation</td>\n",
       "      <td>Matrix Partners, Tiger Global Management, Soft...</td>\n",
       "      <td>2015</td>\n",
       "      <td>18300.0</td>\n",
       "    </tr>\n",
       "    <tr>\n",
       "      <th>4</th>\n",
       "      <td>klarna</td>\n",
       "      <td>45.6</td>\n",
       "      <td>Sweden</td>\n",
       "      <td>Stockholm</td>\n",
       "      <td>Fintech</td>\n",
       "      <td>Institutional Venture Partners, Sequoia Capita...</td>\n",
       "      <td>2011</td>\n",
       "      <td>3100.0</td>\n",
       "    </tr>\n",
       "  </tbody>\n",
       "</table>\n",
       "</div>"
      ],
      "text/plain": [
       "      Company_name  Valuation_usd_bn        Country           City  \\\n",
       "0        bytedance             140.0          China        Beijing   \n",
       "1           stripe              95.0  United States  San Francisco   \n",
       "2           spacex              74.0  United States      Hawthorne   \n",
       "3  didi_didi_dache              62.0          China        Beijing   \n",
       "4           klarna              45.6         Sweden      Stockholm   \n",
       "\n",
       "                  Industry                                          Investors  \\\n",
       "0  Artificial intelligence  Sequoia Capital China, SIG Asia Investments, S...   \n",
       "1                  Fintech        Khosla Ventures, LowercaseCapital, capitalG   \n",
       "2                    Other  Founders Fund, Draper Fisher Jurvetson, Rothen...   \n",
       "3    Auto & transportation  Matrix Partners, Tiger Global Management, Soft...   \n",
       "4                  Fintech  Institutional Venture Partners, Sequoia Capita...   \n",
       "\n",
       "   Unicorn_year Total_funding_EURm  \n",
       "0          2017             3800.0  \n",
       "1          2014             2300.0  \n",
       "2          2012             5100.0  \n",
       "3          2015            18300.0  \n",
       "4          2011             3100.0  "
      ]
     },
     "execution_count": 194,
     "metadata": {},
     "output_type": "execute_result"
    }
   ],
   "source": [
    "unicorns_clean.head()"
   ]
  },
  {
   "cell_type": "code",
   "execution_count": 213,
   "id": "445a5b9f",
   "metadata": {},
   "outputs": [],
   "source": [
    "unicorns_clean[\"Total_funding_EURm\"] = unicorns_clean.Total_funding_EURm.replace(0, \"0\")"
   ]
  },
  {
   "cell_type": "code",
   "execution_count": 215,
   "id": "924589d4",
   "metadata": {},
   "outputs": [],
   "source": [
    "unicorns_clean[\"Total_funding_EURm\"] = pd.to_numeric(unicorns_clean[\"Total_funding_EURm\"])"
   ]
  },
  {
   "cell_type": "markdown",
   "id": "b941a556",
   "metadata": {},
   "source": [
    "## Analysis 1.0 - Which countries have nested the most unicorn companies? Also, which cities?"
   ]
  },
  {
   "cell_type": "code",
   "execution_count": 61,
   "id": "a71017e1",
   "metadata": {},
   "outputs": [
    {
     "data": {
      "text/plain": [
       "United States           371\n",
       "China                   137\n",
       "India                    32\n",
       "United Kingdom           29\n",
       "Germany                  18\n",
       "France                   15\n",
       "Israel                   14\n",
       "Brazil                   12\n",
       "Canada                   11\n",
       "South Korea              10\n",
       "Japan                     6\n",
       "Singapore                 5\n",
       "Switzerland               5\n",
       "Indonesia                 4\n",
       "Hong Kong                 4\n",
       "Sweden                    4\n",
       "Australia                 4\n",
       "Netherlands               3\n",
       "Ireland                   2\n",
       "United Arab Emirates      2\n",
       "South Africa              2\n",
       "Colombia                  2\n",
       "Spain                     2\n",
       "Mexico                    2\n",
       "Turkey                    1\n",
       "Lithuania                 1\n",
       "Norway                    1\n",
       "Estonia                   1\n",
       "Finland                   1\n",
       "Austria                   1\n",
       "Croatia                   1\n",
       "Luxembourg                1\n",
       "Belgium                   1\n",
       "Thailand                  1\n",
       "Philippines               1\n",
       "Bermuda                   1\n",
       "Name: Country, dtype: int64"
      ]
     },
     "execution_count": 61,
     "metadata": {},
     "output_type": "execute_result"
    }
   ],
   "source": [
    "unicorns_clean[\"Country\"].value_counts()"
   ]
  },
  {
   "cell_type": "code",
   "execution_count": 91,
   "id": "206572e1",
   "metadata": {},
   "outputs": [],
   "source": [
    "color = cm.inferno_r(np.linspace(.3, .8, 10))"
   ]
  },
  {
   "cell_type": "code",
   "execution_count": 103,
   "id": "ec4d92ab",
   "metadata": {},
   "outputs": [
    {
     "data": {
      "text/plain": [
       "Text(0, 0.5, 'Country')"
      ]
     },
     "execution_count": 103,
     "metadata": {},
     "output_type": "execute_result"
    },
    {
     "data": {
      "image/png": "[encoded data removed]",
      "text/plain": [
       "<Figure size 720x504 with 1 Axes>"
      ]
     },
     "metadata": {
      "needs_background": "light"
     },
     "output_type": "display_data"
    }
   ],
   "source": [
    "plot_1 = unicorns_clean[\"Country\"].value_counts()[:10].sort_values().plot(kind='barh', color=color, figsize=(10,7))\n",
    "plot_1.set_xlabel(\"Number of Unicorns\")\n",
    "plot_1.set_ylabel(\"Country\")"
   ]
  },
  {
   "cell_type": "markdown",
   "id": "dac0b012",
   "metadata": {},
   "source": [
    "### Clearly US is the winner here followed by China in the long distance and then some other relevant European and Oriental startup hubs such as India, UK, and Germany"
   ]
  },
  {
   "cell_type": "markdown",
   "id": "09a3f773",
   "metadata": {},
   "source": [
    "### But, let's also see which cities are the most relevant hubs for unicorns, most likely we will find San Francisco leading due to the strong influence of Syllicon Valley. In Europe, both London and Berlin should be at the top. Let's take a look:"
   ]
  },
  {
   "cell_type": "code",
   "execution_count": 87,
   "id": "6154448e",
   "metadata": {},
   "outputs": [
    {
     "data": {
      "text/plain": [
       "San Francisco    101\n",
       "New York          55\n",
       "Beijing           52\n",
       "Shanghai          33\n",
       "London            21\n",
       "                ... \n",
       "Jeju-do            1\n",
       "McLean             1\n",
       "Seongnam           1\n",
       "Plantation         1\n",
       "Portland           1\n",
       "Name: City, Length: 194, dtype: int64"
      ]
     },
     "execution_count": 87,
     "metadata": {},
     "output_type": "execute_result"
    }
   ],
   "source": [
    "unicorns_clean[\"City\"].value_counts()"
   ]
  },
  {
   "cell_type": "code",
   "execution_count": 111,
   "id": "e69e004a",
   "metadata": {},
   "outputs": [
    {
     "data": {
      "text/plain": [
       "Text(0, 0.5, 'City')"
      ]
     },
     "execution_count": 111,
     "metadata": {},
     "output_type": "execute_result"
    },
    {
     "data": {
      "image/png": "[encoded data removed]",
      "text/plain": [
       "<Figure size 720x504 with 1 Axes>"
      ]
     },
     "metadata": {
      "needs_background": "light"
     },
     "output_type": "display_data"
    }
   ],
   "source": [
    "plot_2 = unicorns_clean[\"City\"].value_counts()[:10].sort_values().plot(kind='barh', color=color, figsize=(10,7))\n",
    "plot_2.set_xlabel(\"Number of Unicorns\")\n",
    "plot_2.set_ylabel(\"City\")"
   ]
  },
  {
   "cell_type": "markdown",
   "id": "03e870f8",
   "metadata": {},
   "source": [
    "### As expected, SF comes out at the top of the cities ranking, also followed by another US city which is NY. The top 5 is completed by the two key tech hubs in Asia (Beijing and Shanghai) and by the main European tech hub which is London. It is interesting to see how despite India being in the top 3 of countries, only one Indian city appears in the top 10 (Bengaluru), this implies that the startups nest within India are more widely spread among different cities compared to US or China"
   ]
  },
  {
   "cell_type": "markdown",
   "id": "4741c0c2",
   "metadata": {},
   "source": [
    "## Analysis 2.0 - In which sectors have unicorn startups succeeded the most?"
   ]
  },
  {
   "cell_type": "code",
   "execution_count": 108,
   "id": "2da6b823",
   "metadata": {},
   "outputs": [
    {
     "data": {
      "text/plain": [
       "Fintech                                122\n",
       "Internet software & services           110\n",
       "E-commerce & direct-to-consumer         82\n",
       "Artificial intelligence                 57\n",
       "Health                                  56\n",
       "Other                                   50\n",
       "Supply chain, logistics, & delivery     34\n",
       "Mobile & telecommunications             34\n",
       "Auto & transportation                   31\n",
       "Cybersecurity                           29\n",
       "Data management & analytics             27\n",
       "Hardware                                23\n",
       "Edtech                                  21\n",
       "Consumer & retail                       19\n",
       "Travel                                  13\n",
       "Name: Industry, dtype: int64"
      ]
     },
     "execution_count": 108,
     "metadata": {},
     "output_type": "execute_result"
    }
   ],
   "source": [
    "unicorns_clean[\"Industry\"].value_counts()"
   ]
  },
  {
   "cell_type": "code",
   "execution_count": 113,
   "id": "7dfa0067",
   "metadata": {},
   "outputs": [
    {
     "data": {
      "text/plain": [
       "Text(0, 0.5, 'Sector')"
      ]
     },
     "execution_count": 113,
     "metadata": {},
     "output_type": "execute_result"
    },
    {
     "data": {
      "image/png": "[encoded data removed]",
      "text/plain": [
       "<Figure size 720x504 with 1 Axes>"
      ]
     },
     "metadata": {
      "needs_background": "light"
     },
     "output_type": "display_data"
    }
   ],
   "source": [
    "plot_3 = unicorns_clean[\"Industry\"].value_counts()[:10].sort_values().plot(kind='barh', color=color, figsize=(10,7))\n",
    "plot_3.set_xlabel(\"Number of Unicorns\")\n",
    "plot_3.set_ylabel(\"Sector\")"
   ]
  },
  {
   "cell_type": "markdown",
   "id": "b2fbcbb9",
   "metadata": {},
   "source": [
    "### There are three main dominant sectors when it comes to becoming a unicorn startup: 1) Fintech, 2) Internet software & services, and 3) E-commerce. The top 5 is closed by a very disrupting sector such as AI and by HealthTech."
   ]
  },
  {
   "cell_type": "markdown",
   "id": "52cf6cea",
   "metadata": {},
   "source": [
    "## Analysis 3.0 - How has the rate of unicorn startups changed? Let's analyse how many startups reached the one billion valuation milestone each year"
   ]
  },
  {
   "cell_type": "code",
   "execution_count": 124,
   "id": "e8f48015",
   "metadata": {},
   "outputs": [
    {
     "data": {
      "text/plain": [
       "2021    192\n",
       "2018    122\n",
       "2019    122\n",
       "2020    119\n",
       "2017     55\n",
       "2015     47\n",
       "2016     23\n",
       "2014     16\n",
       "2012      5\n",
       "2013      3\n",
       "2011      2\n",
       "2007      1\n",
       "2010      1\n",
       "Name: Unicorn_year, dtype: int64"
      ]
     },
     "execution_count": 124,
     "metadata": {},
     "output_type": "execute_result"
    }
   ],
   "source": [
    "unicorns_clean[\"Unicorn_year\"].value_counts()"
   ]
  },
  {
   "cell_type": "code",
   "execution_count": 166,
   "id": "0c3cf85f",
   "metadata": {},
   "outputs": [
    {
     "data": {
      "image/png": "[encoded data removed]",
      "text/plain": [
       "<Figure size 720x576 with 1 Axes>"
      ]
     },
     "metadata": {
      "needs_background": "light"
     },
     "output_type": "display_data"
    }
   ],
   "source": [
    "plt.figure(figsize=(10,8))\n",
    "plot_4 = sns.histplot(x=unicorns_clean.Unicorn_year, kde=True, discrete=True)"
   ]
  },
  {
   "cell_type": "markdown",
   "id": "98ba440c",
   "metadata": {},
   "source": [
    "### It looks like as time has passed innovation and investment appetite has increased together allowing a significant number of startups to reach or surpass the 1 billion valuation. It is very curious to see the exponential growth from 2020 to 2021. It looks like COVID has allowed entrepreneurs to bring to the market several break-through ideas to adapt to the \"new normality\". "
   ]
  },
  {
   "cell_type": "markdown",
   "id": "2d4466c8",
   "metadata": {},
   "source": [
    "## Analysis 4.0 - Clearly , the data shows how in the recent years more startups have been able to reach the unicorn denomination than before, but what about valuation? Let's look at how these metric moves depending on the year in which the startup became a unicorn"
   ]
  },
  {
   "cell_type": "code",
   "execution_count": 168,
   "id": "b65a52e8",
   "metadata": {},
   "outputs": [
    {
     "data": {
      "text/plain": [
       "<AxesSubplot:xlabel='Unicorn_year', ylabel='Valuation_usd_bn'>"
      ]
     },
     "execution_count": 168,
     "metadata": {},
     "output_type": "execute_result"
    },
    {
     "data": {
      "image/png": "[encoded data removed]",
      "text/plain": [
       "<Figure size 720x576 with 1 Axes>"
      ]
     },
     "metadata": {
      "needs_background": "light"
     },
     "output_type": "display_data"
    }
   ],
   "source": [
    "plt.figure(figsize=(10,8))\n",
    "sns.scatterplot(x=\"Unicorn_year\", y=\"Valuation_usd_bn\", data=unicorns_clean)"
   ]
  },
  {
   "cell_type": "markdown",
   "id": "bd4a8d87",
   "metadata": {},
   "source": [
    "###  In this regard, it looks like the company valuation and year in which they became unicorns don't hold any kind of relationship"
   ]
  },
  {
   "cell_type": "markdown",
   "id": "f28f0db6",
   "metadata": {},
   "source": [
    "## Analysis 5.0 - Let's now put the focus into how does valuation and funding change by sector and by country"
   ]
  },
  {
   "cell_type": "code",
   "execution_count": 169,
   "id": "4b94016b",
   "metadata": {},
   "outputs": [
    {
     "data": {
      "text/html": [
       "<div>\n",
       "<style scoped>\n",
       "    .dataframe tbody tr th:only-of-type {\n",
       "        vertical-align: middle;\n",
       "    }\n",
       "\n",
       "    .dataframe tbody tr th {\n",
       "        vertical-align: top;\n",
       "    }\n",
       "\n",
       "    .dataframe thead th {\n",
       "        text-align: right;\n",
       "    }\n",
       "</style>\n",
       "<table border=\"1\" class=\"dataframe\">\n",
       "  <thead>\n",
       "    <tr style=\"text-align: right;\">\n",
       "      <th></th>\n",
       "      <th>Country</th>\n",
       "      <th>Valuation_usd_bn</th>\n",
       "    </tr>\n",
       "  </thead>\n",
       "  <tbody>\n",
       "    <tr>\n",
       "      <th>35</th>\n",
       "      <td>United States</td>\n",
       "      <td>1180.28</td>\n",
       "    </tr>\n",
       "    <tr>\n",
       "      <th>6</th>\n",
       "      <td>China</td>\n",
       "      <td>547.72</td>\n",
       "    </tr>\n",
       "    <tr>\n",
       "      <th>14</th>\n",
       "      <td>India</td>\n",
       "      <td>113.85</td>\n",
       "    </tr>\n",
       "    <tr>\n",
       "      <th>34</th>\n",
       "      <td>United Kingdom</td>\n",
       "      <td>94.54</td>\n",
       "    </tr>\n",
       "    <tr>\n",
       "      <th>29</th>\n",
       "      <td>Sweden</td>\n",
       "      <td>58.08</td>\n",
       "    </tr>\n",
       "    <tr>\n",
       "      <th>4</th>\n",
       "      <td>Brazil</td>\n",
       "      <td>50.45</td>\n",
       "    </tr>\n",
       "    <tr>\n",
       "      <th>12</th>\n",
       "      <td>Germany</td>\n",
       "      <td>44.68</td>\n",
       "    </tr>\n",
       "    <tr>\n",
       "      <th>11</th>\n",
       "      <td>France</td>\n",
       "      <td>23.10</td>\n",
       "    </tr>\n",
       "    <tr>\n",
       "      <th>5</th>\n",
       "      <td>Canada</td>\n",
       "      <td>21.90</td>\n",
       "    </tr>\n",
       "    <tr>\n",
       "      <th>27</th>\n",
       "      <td>South Korea</td>\n",
       "      <td>21.69</td>\n",
       "    </tr>\n",
       "  </tbody>\n",
       "</table>\n",
       "</div>"
      ],
      "text/plain": [
       "           Country  Valuation_usd_bn\n",
       "35   United States           1180.28\n",
       "6            China            547.72\n",
       "14           India            113.85\n",
       "34  United Kingdom             94.54\n",
       "29          Sweden             58.08\n",
       "4           Brazil             50.45\n",
       "12         Germany             44.68\n",
       "11          France             23.10\n",
       "5           Canada             21.90\n",
       "27     South Korea             21.69"
      ]
     },
     "execution_count": 169,
     "metadata": {},
     "output_type": "execute_result"
    }
   ],
   "source": [
    "grouped = unicorns_clean.groupby('Country')['Valuation_usd_bn'].sum().reset_index()\n",
    "top_10 = grouped.sort_values('Valuation_usd_bn', ascending=False).head(10)\n",
    "top_10.head(10)"
   ]
  },
  {
   "cell_type": "code",
   "execution_count": 179,
   "id": "f87c018a",
   "metadata": {},
   "outputs": [
    {
     "data": {
      "image/png": "[encoded data removed]",
      "text/plain": [
       "<Figure size 720x576 with 1 Axes>"
      ]
     },
     "metadata": {
      "needs_background": "light"
     },
     "output_type": "display_data"
    }
   ],
   "source": [
    "plt.figure(figsize=(10,8))\n",
    "plot_5= sns.barplot(x=\"Valuation_usd_bn\", y=\"Country\", data=top_10)"
   ]
  },
  {
   "cell_type": "markdown",
   "id": "fab6e59c",
   "metadata": {},
   "source": [
    "### Let's look at total funding now"
   ]
  },
  {
   "cell_type": "code",
   "execution_count": 221,
   "id": "3030be5c",
   "metadata": {},
   "outputs": [
    {
     "data": {
      "text/html": [
       "<div>\n",
       "<style scoped>\n",
       "    .dataframe tbody tr th:only-of-type {\n",
       "        vertical-align: middle;\n",
       "    }\n",
       "\n",
       "    .dataframe tbody tr th {\n",
       "        vertical-align: top;\n",
       "    }\n",
       "\n",
       "    .dataframe thead th {\n",
       "        text-align: right;\n",
       "    }\n",
       "</style>\n",
       "<table border=\"1\" class=\"dataframe\">\n",
       "  <thead>\n",
       "    <tr style=\"text-align: right;\">\n",
       "      <th></th>\n",
       "      <th>Country</th>\n",
       "      <th>Total_funding_EURm</th>\n",
       "    </tr>\n",
       "  </thead>\n",
       "  <tbody>\n",
       "    <tr>\n",
       "      <th>35</th>\n",
       "      <td>United States</td>\n",
       "      <td>158841.0315</td>\n",
       "    </tr>\n",
       "    <tr>\n",
       "      <th>6</th>\n",
       "      <td>China</td>\n",
       "      <td>94280.6000</td>\n",
       "    </tr>\n",
       "    <tr>\n",
       "      <th>14</th>\n",
       "      <td>India</td>\n",
       "      <td>29907.3000</td>\n",
       "    </tr>\n",
       "    <tr>\n",
       "      <th>34</th>\n",
       "      <td>United Kingdom</td>\n",
       "      <td>13956.8000</td>\n",
       "    </tr>\n",
       "    <tr>\n",
       "      <th>25</th>\n",
       "      <td>Singapore</td>\n",
       "      <td>12819.0000</td>\n",
       "    </tr>\n",
       "    <tr>\n",
       "      <th>12</th>\n",
       "      <td>Germany</td>\n",
       "      <td>8231.0000</td>\n",
       "    </tr>\n",
       "    <tr>\n",
       "      <th>29</th>\n",
       "      <td>Sweden</td>\n",
       "      <td>8074.0000</td>\n",
       "    </tr>\n",
       "    <tr>\n",
       "      <th>4</th>\n",
       "      <td>Brazil</td>\n",
       "      <td>6135.0000</td>\n",
       "    </tr>\n",
       "    <tr>\n",
       "      <th>11</th>\n",
       "      <td>France</td>\n",
       "      <td>4897.0000</td>\n",
       "    </tr>\n",
       "    <tr>\n",
       "      <th>17</th>\n",
       "      <td>Israel</td>\n",
       "      <td>4175.8000</td>\n",
       "    </tr>\n",
       "  </tbody>\n",
       "</table>\n",
       "</div>"
      ],
      "text/plain": [
       "           Country  Total_funding_EURm\n",
       "35   United States         158841.0315\n",
       "6            China          94280.6000\n",
       "14           India          29907.3000\n",
       "34  United Kingdom          13956.8000\n",
       "25       Singapore          12819.0000\n",
       "12         Germany           8231.0000\n",
       "29          Sweden           8074.0000\n",
       "4           Brazil           6135.0000\n",
       "11          France           4897.0000\n",
       "17          Israel           4175.8000"
      ]
     },
     "execution_count": 221,
     "metadata": {},
     "output_type": "execute_result"
    }
   ],
   "source": [
    "grouped_funding = unicorns_clean['Total_funding_EURm'].groupby(unicorns_clean['Country']).sum().reset_index()\n",
    "top_10_funding = grouped_funding.sort_values('Total_funding_EURm', ascending=False).head(10)\n",
    "top_10_funding.head(10)"
   ]
  },
  {
   "cell_type": "code",
   "execution_count": 222,
   "id": "f7d38b14",
   "metadata": {},
   "outputs": [
    {
     "data": {
      "image/png": "[encoded data removed]",
      "text/plain": [
       "<Figure size 720x576 with 1 Axes>"
      ]
     },
     "metadata": {
      "needs_background": "light"
     },
     "output_type": "display_data"
    }
   ],
   "source": [
    "plt.figure(figsize=(10,8))\n",
    "plot_7= sns.barplot(x=\"Total_funding_EURm\", y=\"Country\", data=top_10_funding)"
   ]
  },
  {
   "cell_type": "markdown",
   "id": "9cbe7d4f",
   "metadata": {},
   "source": [
    "### In this aspect the output is quite predictable and makes sense with the one presented in Analysis 1.0, where I showed the number of startups by country. I wanted to check in any case to analyse if there were some countries with not so many unicorns but with very high valuations. In this regard we could mention Sweden as the surprising point here given that it was not even in the top 10 of countries with more unicorns but it is in the top 5 of total valuation. In terms of funding we can say that the output also makes sense as the top 3 countries with the highest total valuations are the top 3 with most funding. We could also highlight Singapore startups here as they are in the top 5 of companies with most funding but in terms of total valuation they are not even part of the top 10"
   ]
  },
  {
   "cell_type": "markdown",
   "id": "fc70c6a4",
   "metadata": {},
   "source": [
    "### Let's look at valuation and funding by sectors:"
   ]
  },
  {
   "cell_type": "code",
   "execution_count": 175,
   "id": "dd900f56",
   "metadata": {},
   "outputs": [
    {
     "data": {
      "text/html": [
       "<div>\n",
       "<style scoped>\n",
       "    .dataframe tbody tr th:only-of-type {\n",
       "        vertical-align: middle;\n",
       "    }\n",
       "\n",
       "    .dataframe tbody tr th {\n",
       "        vertical-align: top;\n",
       "    }\n",
       "\n",
       "    .dataframe thead th {\n",
       "        text-align: right;\n",
       "    }\n",
       "</style>\n",
       "<table border=\"1\" class=\"dataframe\">\n",
       "  <thead>\n",
       "    <tr style=\"text-align: right;\">\n",
       "      <th></th>\n",
       "      <th>Industry</th>\n",
       "      <th>Valuation_usd_bn</th>\n",
       "    </tr>\n",
       "  </thead>\n",
       "  <tbody>\n",
       "    <tr>\n",
       "      <th>7</th>\n",
       "      <td>Fintech</td>\n",
       "      <td>488.96</td>\n",
       "    </tr>\n",
       "    <tr>\n",
       "      <th>0</th>\n",
       "      <td>Artificial intelligence</td>\n",
       "      <td>275.74</td>\n",
       "    </tr>\n",
       "    <tr>\n",
       "      <th>10</th>\n",
       "      <td>Internet software &amp; services</td>\n",
       "      <td>266.92</td>\n",
       "    </tr>\n",
       "    <tr>\n",
       "      <th>5</th>\n",
       "      <td>E-commerce &amp; direct-to-consumer</td>\n",
       "      <td>211.21</td>\n",
       "    </tr>\n",
       "    <tr>\n",
       "      <th>12</th>\n",
       "      <td>Other</td>\n",
       "      <td>198.56</td>\n",
       "    </tr>\n",
       "    <tr>\n",
       "      <th>1</th>\n",
       "      <td>Auto &amp; transportation</td>\n",
       "      <td>180.63</td>\n",
       "    </tr>\n",
       "    <tr>\n",
       "      <th>9</th>\n",
       "      <td>Health</td>\n",
       "      <td>140.43</td>\n",
       "    </tr>\n",
       "    <tr>\n",
       "      <th>13</th>\n",
       "      <td>Supply chain, logistics, &amp; delivery</td>\n",
       "      <td>118.49</td>\n",
       "    </tr>\n",
       "    <tr>\n",
       "      <th>4</th>\n",
       "      <td>Data management &amp; analytics</td>\n",
       "      <td>90.59</td>\n",
       "    </tr>\n",
       "    <tr>\n",
       "      <th>8</th>\n",
       "      <td>Hardware</td>\n",
       "      <td>84.06</td>\n",
       "    </tr>\n",
       "  </tbody>\n",
       "</table>\n",
       "</div>"
      ],
      "text/plain": [
       "                               Industry  Valuation_usd_bn\n",
       "7                               Fintech            488.96\n",
       "0               Artificial intelligence            275.74\n",
       "10         Internet software & services            266.92\n",
       "5       E-commerce & direct-to-consumer            211.21\n",
       "12                                Other            198.56\n",
       "1                 Auto & transportation            180.63\n",
       "9                                Health            140.43\n",
       "13  Supply chain, logistics, & delivery            118.49\n",
       "4           Data management & analytics             90.59\n",
       "8                              Hardware             84.06"
      ]
     },
     "execution_count": 175,
     "metadata": {},
     "output_type": "execute_result"
    }
   ],
   "source": [
    "grouped_1 = unicorns_clean.groupby('Industry')['Valuation_usd_bn'].sum().reset_index()\n",
    "top_10_sectors = grouped_1.sort_values('Valuation_usd_bn', ascending=False).head(10)\n",
    "top_10_sectors"
   ]
  },
  {
   "cell_type": "code",
   "execution_count": 223,
   "id": "1e44663e",
   "metadata": {},
   "outputs": [
    {
     "data": {
      "image/png": "[encoded data removed]",
      "text/plain": [
       "<Figure size 720x576 with 1 Axes>"
      ]
     },
     "metadata": {
      "needs_background": "light"
     },
     "output_type": "display_data"
    }
   ],
   "source": [
    "plt.figure(figsize=(10,8))\n",
    "plot_6= sns.barplot(x=\"Valuation_usd_bn\", y=\"Industry\", data=top_10_sectors)"
   ]
  },
  {
   "cell_type": "code",
   "execution_count": 225,
   "id": "cea3f144",
   "metadata": {},
   "outputs": [
    {
     "data": {
      "text/html": [
       "<div>\n",
       "<style scoped>\n",
       "    .dataframe tbody tr th:only-of-type {\n",
       "        vertical-align: middle;\n",
       "    }\n",
       "\n",
       "    .dataframe tbody tr th {\n",
       "        vertical-align: top;\n",
       "    }\n",
       "\n",
       "    .dataframe thead th {\n",
       "        text-align: right;\n",
       "    }\n",
       "</style>\n",
       "<table border=\"1\" class=\"dataframe\">\n",
       "  <thead>\n",
       "    <tr style=\"text-align: right;\">\n",
       "      <th></th>\n",
       "      <th>Industry</th>\n",
       "      <th>Total_funding_EURm</th>\n",
       "    </tr>\n",
       "  </thead>\n",
       "  <tbody>\n",
       "    <tr>\n",
       "      <th>1</th>\n",
       "      <td>Auto &amp; transportation</td>\n",
       "      <td>59498.2015</td>\n",
       "    </tr>\n",
       "    <tr>\n",
       "      <th>7</th>\n",
       "      <td>Fintech</td>\n",
       "      <td>53740.4750</td>\n",
       "    </tr>\n",
       "    <tr>\n",
       "      <th>5</th>\n",
       "      <td>E-commerce &amp; direct-to-consumer</td>\n",
       "      <td>43016.8000</td>\n",
       "    </tr>\n",
       "    <tr>\n",
       "      <th>10</th>\n",
       "      <td>Internet software &amp; services</td>\n",
       "      <td>33090.0000</td>\n",
       "    </tr>\n",
       "    <tr>\n",
       "      <th>0</th>\n",
       "      <td>Artificial intelligence</td>\n",
       "      <td>31917.7000</td>\n",
       "    </tr>\n",
       "    <tr>\n",
       "      <th>12</th>\n",
       "      <td>Other</td>\n",
       "      <td>25714.1000</td>\n",
       "    </tr>\n",
       "    <tr>\n",
       "      <th>13</th>\n",
       "      <td>Supply chain, logistics, &amp; delivery</td>\n",
       "      <td>24552.0000</td>\n",
       "    </tr>\n",
       "    <tr>\n",
       "      <th>9</th>\n",
       "      <td>Health</td>\n",
       "      <td>24070.8000</td>\n",
       "    </tr>\n",
       "    <tr>\n",
       "      <th>6</th>\n",
       "      <td>Edtech</td>\n",
       "      <td>13127.9000</td>\n",
       "    </tr>\n",
       "    <tr>\n",
       "      <th>11</th>\n",
       "      <td>Mobile &amp; telecommunications</td>\n",
       "      <td>11777.0000</td>\n",
       "    </tr>\n",
       "  </tbody>\n",
       "</table>\n",
       "</div>"
      ],
      "text/plain": [
       "                               Industry  Total_funding_EURm\n",
       "1                 Auto & transportation          59498.2015\n",
       "7                               Fintech          53740.4750\n",
       "5       E-commerce & direct-to-consumer          43016.8000\n",
       "10         Internet software & services          33090.0000\n",
       "0               Artificial intelligence          31917.7000\n",
       "12                                Other          25714.1000\n",
       "13  Supply chain, logistics, & delivery          24552.0000\n",
       "9                                Health          24070.8000\n",
       "6                                Edtech          13127.9000\n",
       "11          Mobile & telecommunications          11777.0000"
      ]
     },
     "execution_count": 225,
     "metadata": {},
     "output_type": "execute_result"
    }
   ],
   "source": [
    "grouped_funding_sector = unicorns_clean['Total_funding_EURm'].groupby(unicorns_clean['Industry']).sum().reset_index()\n",
    "top_10_funding_sector = grouped_funding_sector.sort_values('Total_funding_EURm', ascending=False).head(10)\n",
    "top_10_funding_sector.head(10)"
   ]
  },
  {
   "cell_type": "code",
   "execution_count": 226,
   "id": "278c9c66",
   "metadata": {},
   "outputs": [
    {
     "data": {
      "image/png": "[encoded data removed]",
      "text/plain": [
       "<Figure size 720x576 with 1 Axes>"
      ]
     },
     "metadata": {
      "needs_background": "light"
     },
     "output_type": "display_data"
    }
   ],
   "source": [
    "plt.figure(figsize=(10,8))\n",
    "plot_8= sns.barplot(x=\"Total_funding_EURm\", y=\"Industry\", data=top_10_funding_sector)"
   ]
  },
  {
   "cell_type": "markdown",
   "id": "803fddf1",
   "metadata": {},
   "source": [
    "### In terms of total valuation by sector output is in line with the expected as the top 4 sectors with the highest valuations are the ones with the highest number of unicorns. The output of total funding is also in line, but there is quite a big surprise as we can see that Auto&Transportation is the sector that has received the most amount of funding but in terms of total valuation is not even in the top 5. This could be due to the capital intensive nature of the sector and also due to the significant regulations and barriers to entry in this market."
   ]
  },
  {
   "cell_type": "markdown",
   "id": "c9ae595e",
   "metadata": {},
   "source": [
    "## Analysis 6.0 - Does more funding lead to higher valuations?"
   ]
  },
  {
   "cell_type": "code",
   "execution_count": 228,
   "id": "ec33aa05",
   "metadata": {},
   "outputs": [
    {
     "data": {
      "text/plain": [
       "<AxesSubplot:xlabel='Total_funding_EURm', ylabel='Valuation_usd_bn'>"
      ]
     },
     "execution_count": 228,
     "metadata": {},
     "output_type": "execute_result"
    },
    {
     "data": {
      "image/png": "[encoded data removed]",
      "text/plain": [
       "<Figure size 720x576 with 1 Axes>"
      ]
     },
     "metadata": {
      "needs_background": "light"
     },
     "output_type": "display_data"
    }
   ],
   "source": [
    "plt.figure(figsize=(10,8))\n",
    "sns.scatterplot(x=\"Total_funding_EURm\", y=\"Valuation_usd_bn\", data=unicorns_clean)"
   ]
  },
  {
   "cell_type": "markdown",
   "id": "aed4ef60",
   "metadata": {},
   "source": [
    "### Against what I was expecting, it seems as though there is not a solid relationship between the total amount of funding received and the total company valuation. Given that this was a broad analysis from unicorns from different sectors I think it makes sense now as valuations may rely more on specific industry metrics for each company as well as different valuation multiples for each company"
   ]
  },
  {
   "cell_type": "markdown",
   "id": "60f6a369",
   "metadata": {},
   "source": [
    "## Analysis 7.0 - Who were the smart or lucky funds who invested in startups before they converted to unicorns?"
   ]
  },
  {
   "cell_type": "code",
   "execution_count": 243,
   "id": "f8cf8e11",
   "metadata": {},
   "outputs": [],
   "source": [
    "df = unicorns_clean"
   ]
  },
  {
   "cell_type": "code",
   "execution_count": 249,
   "id": "488c6686",
   "metadata": {},
   "outputs": [
    {
     "data": {
      "text/html": [
       "<div>\n",
       "<style scoped>\n",
       "    .dataframe tbody tr th:only-of-type {\n",
       "        vertical-align: middle;\n",
       "    }\n",
       "\n",
       "    .dataframe tbody tr th {\n",
       "        vertical-align: top;\n",
       "    }\n",
       "\n",
       "    .dataframe thead th {\n",
       "        text-align: right;\n",
       "    }\n",
       "</style>\n",
       "<table border=\"1\" class=\"dataframe\">\n",
       "  <thead>\n",
       "    <tr style=\"text-align: right;\">\n",
       "      <th></th>\n",
       "      <th>Company_name</th>\n",
       "      <th>Valuation_usd_bn</th>\n",
       "      <th>Country</th>\n",
       "      <th>City</th>\n",
       "      <th>Industry</th>\n",
       "      <th>Investors</th>\n",
       "      <th>Unicorn_year</th>\n",
       "      <th>Total_funding_EURm</th>\n",
       "    </tr>\n",
       "  </thead>\n",
       "  <tbody>\n",
       "    <tr>\n",
       "      <th>0</th>\n",
       "      <td>bytedance</td>\n",
       "      <td>140.0</td>\n",
       "      <td>China</td>\n",
       "      <td>Beijing</td>\n",
       "      <td>Artificial intelligence</td>\n",
       "      <td>Sequoia Capital China, SIG Asia Investments, S...</td>\n",
       "      <td>2017</td>\n",
       "      <td>3800.0</td>\n",
       "    </tr>\n",
       "    <tr>\n",
       "      <th>1</th>\n",
       "      <td>stripe</td>\n",
       "      <td>95.0</td>\n",
       "      <td>United States</td>\n",
       "      <td>San Francisco</td>\n",
       "      <td>Fintech</td>\n",
       "      <td>Khosla Ventures, LowercaseCapital, capitalG</td>\n",
       "      <td>2014</td>\n",
       "      <td>2300.0</td>\n",
       "    </tr>\n",
       "    <tr>\n",
       "      <th>2</th>\n",
       "      <td>spacex</td>\n",
       "      <td>74.0</td>\n",
       "      <td>United States</td>\n",
       "      <td>Hawthorne</td>\n",
       "      <td>Other</td>\n",
       "      <td>Founders Fund, Draper Fisher Jurvetson, Rothen...</td>\n",
       "      <td>2012</td>\n",
       "      <td>5100.0</td>\n",
       "    </tr>\n",
       "    <tr>\n",
       "      <th>3</th>\n",
       "      <td>didi_didi_dache</td>\n",
       "      <td>62.0</td>\n",
       "      <td>China</td>\n",
       "      <td>Beijing</td>\n",
       "      <td>Auto &amp; transportation</td>\n",
       "      <td>Matrix Partners, Tiger Global Management, Soft...</td>\n",
       "      <td>2015</td>\n",
       "      <td>18300.0</td>\n",
       "    </tr>\n",
       "    <tr>\n",
       "      <th>4</th>\n",
       "      <td>klarna</td>\n",
       "      <td>45.6</td>\n",
       "      <td>Sweden</td>\n",
       "      <td>Stockholm</td>\n",
       "      <td>Fintech</td>\n",
       "      <td>Institutional Venture Partners, Sequoia Capita...</td>\n",
       "      <td>2011</td>\n",
       "      <td>3100.0</td>\n",
       "    </tr>\n",
       "    <tr>\n",
       "      <th>...</th>\n",
       "      <td>...</td>\n",
       "      <td>...</td>\n",
       "      <td>...</td>\n",
       "      <td>...</td>\n",
       "      <td>...</td>\n",
       "      <td>...</td>\n",
       "      <td>...</td>\n",
       "      <td>...</td>\n",
       "    </tr>\n",
       "    <tr>\n",
       "      <th>703</th>\n",
       "      <td>shippo</td>\n",
       "      <td>1.0</td>\n",
       "      <td>United States</td>\n",
       "      <td>San Francisco</td>\n",
       "      <td>Supply chain, logistics, &amp; delivery</td>\n",
       "      <td>Version One Ventures, Uncork Capital, Bessemer...</td>\n",
       "      <td>2021</td>\n",
       "      <td>140.0</td>\n",
       "    </tr>\n",
       "    <tr>\n",
       "      <th>704</th>\n",
       "      <td>thirty_madison</td>\n",
       "      <td>1.0</td>\n",
       "      <td>United States</td>\n",
       "      <td>New York</td>\n",
       "      <td>Health</td>\n",
       "      <td>Northzone Ventures, Maveron, Johnson &amp; Johnson...</td>\n",
       "      <td>2021</td>\n",
       "      <td>193.0</td>\n",
       "    </tr>\n",
       "    <tr>\n",
       "      <th>705</th>\n",
       "      <td>letsgetchecked_com</td>\n",
       "      <td>1.0</td>\n",
       "      <td>Ireland</td>\n",
       "      <td>Dublin</td>\n",
       "      <td>Health</td>\n",
       "      <td>Optum Ventures, Qiming Venture Partners, Trans...</td>\n",
       "      <td>2021</td>\n",
       "      <td>241.0</td>\n",
       "    </tr>\n",
       "    <tr>\n",
       "      <th>706</th>\n",
       "      <td>verbit_ai</td>\n",
       "      <td>1.0</td>\n",
       "      <td>Israel</td>\n",
       "      <td>Tel Aviv</td>\n",
       "      <td>Artificial intelligence</td>\n",
       "      <td>ClalTech, Vertex Ventures, Oryzn Capital</td>\n",
       "      <td>2021</td>\n",
       "      <td>256.0</td>\n",
       "    </tr>\n",
       "    <tr>\n",
       "      <th>707</th>\n",
       "      <td>aura</td>\n",
       "      <td>1.0</td>\n",
       "      <td>United States</td>\n",
       "      <td>Burlington</td>\n",
       "      <td>Cybersecurity</td>\n",
       "      <td>Warburg Pincus, General Catalyst</td>\n",
       "      <td>2021</td>\n",
       "      <td>90.6</td>\n",
       "    </tr>\n",
       "  </tbody>\n",
       "</table>\n",
       "<p>708 rows × 8 columns</p>\n",
       "</div>"
      ],
      "text/plain": [
       "           Company_name  Valuation_usd_bn        Country           City  \\\n",
       "0             bytedance             140.0          China        Beijing   \n",
       "1                stripe              95.0  United States  San Francisco   \n",
       "2                spacex              74.0  United States      Hawthorne   \n",
       "3       didi_didi_dache              62.0          China        Beijing   \n",
       "4                klarna              45.6         Sweden      Stockholm   \n",
       "..                  ...               ...            ...            ...   \n",
       "703              shippo               1.0  United States  San Francisco   \n",
       "704      thirty_madison               1.0  United States       New York   \n",
       "705  letsgetchecked_com               1.0        Ireland         Dublin   \n",
       "706           verbit_ai               1.0         Israel       Tel Aviv   \n",
       "707                aura               1.0  United States     Burlington   \n",
       "\n",
       "                                Industry  \\\n",
       "0                Artificial intelligence   \n",
       "1                                Fintech   \n",
       "2                                  Other   \n",
       "3                  Auto & transportation   \n",
       "4                                Fintech   \n",
       "..                                   ...   \n",
       "703  Supply chain, logistics, & delivery   \n",
       "704                               Health   \n",
       "705                               Health   \n",
       "706              Artificial intelligence   \n",
       "707                        Cybersecurity   \n",
       "\n",
       "                                             Investors  Unicorn_year  \\\n",
       "0    Sequoia Capital China, SIG Asia Investments, S...          2017   \n",
       "1          Khosla Ventures, LowercaseCapital, capitalG          2014   \n",
       "2    Founders Fund, Draper Fisher Jurvetson, Rothen...          2012   \n",
       "3    Matrix Partners, Tiger Global Management, Soft...          2015   \n",
       "4    Institutional Venture Partners, Sequoia Capita...          2011   \n",
       "..                                                 ...           ...   \n",
       "703  Version One Ventures, Uncork Capital, Bessemer...          2021   \n",
       "704  Northzone Ventures, Maveron, Johnson & Johnson...          2021   \n",
       "705  Optum Ventures, Qiming Venture Partners, Trans...          2021   \n",
       "706           ClalTech, Vertex Ventures, Oryzn Capital          2021   \n",
       "707                   Warburg Pincus, General Catalyst          2021   \n",
       "\n",
       "     Total_funding_EURm  \n",
       "0                3800.0  \n",
       "1                2300.0  \n",
       "2                5100.0  \n",
       "3               18300.0  \n",
       "4                3100.0  \n",
       "..                  ...  \n",
       "703               140.0  \n",
       "704               193.0  \n",
       "705               241.0  \n",
       "706               256.0  \n",
       "707                90.6  \n",
       "\n",
       "[708 rows x 8 columns]"
      ]
     },
     "execution_count": 249,
     "metadata": {},
     "output_type": "execute_result"
    }
   ],
   "source": [
    "df"
   ]
  },
  {
   "cell_type": "code",
   "execution_count": 244,
   "id": "313533c8",
   "metadata": {},
   "outputs": [
    {
     "name": "stdout",
     "output_type": "stream",
     "text": [
      "nan\n"
     ]
    }
   ],
   "source": [
    "all_invs = []\n",
    "\n",
    "for Invs in df.Investors:\n",
    "    try:\n",
    "        this_invs = Invs.split(\", \")\n",
    "    \n",
    "        all_invs.extend(this_invs)\n",
    "        \n",
    "    except:\n",
    "        print(Invs)"
   ]
  },
  {
   "cell_type": "code",
   "execution_count": 245,
   "id": "e069786b",
   "metadata": {},
   "outputs": [
    {
     "data": {
      "text/plain": [
       "(708, 8)"
      ]
     },
     "execution_count": 245,
     "metadata": {},
     "output_type": "execute_result"
    }
   ],
   "source": [
    "df.shape"
   ]
  },
  {
   "cell_type": "code",
   "execution_count": 246,
   "id": "14f79e48",
   "metadata": {},
   "outputs": [
    {
     "data": {
      "text/plain": [
       "1973"
      ]
     },
     "execution_count": 246,
     "metadata": {},
     "output_type": "execute_result"
    }
   ],
   "source": [
    "len(all_invs)"
   ]
  },
  {
   "cell_type": "code",
   "execution_count": 259,
   "id": "81b4e68e",
   "metadata": {},
   "outputs": [],
   "source": [
    "top_investors = pd.Series(all_invs).value_counts().head(10)"
   ]
  },
  {
   "cell_type": "code",
   "execution_count": 260,
   "id": "2c9eb68b",
   "metadata": {},
   "outputs": [
    {
     "data": {
      "text/plain": [
       "Sequoia Capital China        37\n",
       "Sequoia Capital              34\n",
       "Accel                        33\n",
       "Tiger Global Management      32\n",
       "Andreessen Horowitz          27\n",
       "New Enterprise Associates    23\n",
       "Tencent Holdings             22\n",
       "Insight Partners             21\n",
       "Google Ventures              21\n",
       "SoftBank Group               20\n",
       "dtype: int64"
      ]
     },
     "execution_count": 260,
     "metadata": {},
     "output_type": "execute_result"
    }
   ],
   "source": [
    "top_investors"
   ]
  },
  {
   "cell_type": "code",
   "execution_count": 258,
   "id": "798b2136",
   "metadata": {},
   "outputs": [
    {
     "data": {
      "text/plain": [
       "Text(0, 0.5, 'Investors')"
      ]
     },
     "execution_count": 258,
     "metadata": {},
     "output_type": "execute_result"
    },
    {
     "data": {
      "image/png": "[encoded data removed]",
      "text/plain": [
       "<Figure size 720x504 with 1 Axes>"
      ]
     },
     "metadata": {
      "needs_background": "light"
     },
     "output_type": "display_data"
    }
   ],
   "source": [
    "plot_9 = top_investors.sort_values().plot(kind='barh', color=color, figsize=(10,7))\n",
    "plot_9.set_xlabel(\"Number of unicorns\")\n",
    "plot_9.set_ylabel(\"Investors\")"
   ]
  },
  {
   "cell_type": "markdown",
   "id": "716517eb",
   "metadata": {},
   "source": [
    "### Clearly the big winner here is Sequoia with over 70 unicorns under their umbrella followed by Accel and TIGER Global, both with over 30 unicorns in their portfolios"
   ]
  },
  {
   "cell_type": "code",
   "execution_count": null,
   "id": "fc9913c9",
   "metadata": {},
   "outputs": [],
   "source": []
  }
 ],
 "metadata": {
  "kernelspec": {
   "display_name": "ironhack",
   "language": "python",
   "name": "ironhack"
  },
  "language_info": {
   "codemirror_mode": {
    "name": "ipython",
    "version": 3
   },
   "file_extension": ".py",
   "mimetype": "text/x-python",
   "name": "python",
   "nbconvert_exporter": "python",
   "pygments_lexer": "ipython3",
   "version": "3.8.10"
  }
 },
 "nbformat": 4,
 "nbformat_minor": 5
}
